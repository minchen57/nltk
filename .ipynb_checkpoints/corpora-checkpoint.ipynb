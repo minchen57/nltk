{
 "cells": [
  {
   "cell_type": "markdown",
   "metadata": {},
   "source": [
    "# NLTK Corpora and Treebanks\n",
    "\n",
    "In the field of Natural Langugage Processing, a sample of real world text is referred to as a *Corpus* (plural *Corpora*).\n",
    "\n",
    "Possibly the most famous and widely used corpus is the **Brown Corpus** (https://en.wikipedia.org/wiki/Brown_Corpus) which was the first million-word electronic corpus of English, created in 1961 at Brown University.\n",
    "\n",
    "A *Treebank* is an parsed and annotated Corpus that records the syntactic or semantic sentence structure of the content (i.e. typically each sentence and probably each word in the corpus).   The first large-scale treebank was The **Penn Treebank**, created in 1992 at the University of Pennsylvania. \n",
    "\n",
    "There are many corpora and treebanks distributed with the NLTK toolkit, listed in the NLTK Book here: http://www.nltk.org/nltk_data/"
   ]
  },
  {
   "cell_type": "markdown",
   "metadata": {},
   "source": [
    "## Downloading and Exploring a Corpus ##\n",
    "\n",
    "The Corpus are not installed by default - if you want to use one of the standard NLTK corpora, use the NLTK downloader as shown in the example below.\n",
    "\n",
    "**Example** - Download the Reuters Corpus:\n"
   ]
  },
  {
   "cell_type": "code",
   "execution_count": 10,
   "metadata": {
    "collapsed": true
   },
   "outputs": [],
   "source": [
    "import nltk\n",
    "#nltk.download(\"reuters\")"
   ]
  },
  {
   "cell_type": "markdown",
   "metadata": {
    "collapsed": true
   },
   "source": [
    "Various methods can be applied against a loaded corpus to perform actions such as extract the words from corpus, identify the files that make up a corpus, list category definitions in a corpus and extract text filtered by category.\n",
    "\n",
    "A list of common methods is provided in Chapter 2 of the [NLTK Book](http://www.nltk.org/book/ch02.html) as follows:  \n",
    "<table align=\"left\">\n",
    "<tr><td><b>Example</b></td>   <td align=\"left\"><b>Description</b></td></tr>\n",
    "<tr><td>fileids()</td>   <td align=\"left\">the files of the corpus</td></tr>\n",
    "<tr><td>fileids([categories])</td>   <td align=\"left\">the files of the corpus corresponding to these categories</td></tr>\n",
    "<tr><td>categories()</td>   <td align=\"left\">the categories of the corpus</td></tr>\n",
    "<tr><td>categories([fileids])</td>   <td align=\"left\">the categories of the corpus corresponding to these files</td></tr>\n",
    "<tr><td>raw()</td>   <td align=\"left\">the raw content of the corpus</td></tr>\n",
    "<tr><td>raw(fileids=[f1,f2,f3])</td>   <td align=\"left\">the raw content of the specified files</td></tr>\n",
    "<tr><td>raw(categories=[c1,c2])</td>   <td align=\"left\">the raw content of the specified categories</td></tr>\n",
    "<tr><td>words()</td>   <td align=\"left\">the words of the whole corpus</td></tr>\n",
    "<tr><td>words(fileids=[f1,f2,f3])</td>   <td align=\"left\">the words of the specified fileids</td></tr>\n",
    "<tr><td>words(categories=[c1,c2])</td>   <td align=\"left\">the words of the specified categories</td></tr>\n",
    "<tr><td>sents()</td>   <td align=\"left\">the sentences of the whole corpus</td></tr>\n",
    "<tr><td>sents(fileids=[f1,f2,f3])</td>   <td align=\"left\">the sentences of the specified fileids</td></tr>\n",
    "<tr><td>sents(categories=[c1,c2])</td>   <td align=\"left\">the sentences of the specified categories</td></tr>\n",
    "<tr><td>abspath(fileid)</td>   <td align=\"left\">the location of the given file on disk</td></tr>\n",
    "<tr><td>encoding(fileid)</td>   <td align=\"left\">the encoding of the file (if known)</td></tr>\n",
    "<tr><td>open(fileid)</td>   <td align=\"left\">open a stream for reading the given corpus file</td></tr>\n",
    "<tr><td>root</td>   <td align=\"left\">if the path to the root of locally installed corpus</td></tr>\n",
    "<tr><td>readme()</td>   <td align=\"left\">the contents of the README file of the corpus</td></tr>\n",
    "</table>"
   ]
  },
  {
   "cell_type": "markdown",
   "metadata": {},
   "source": [
    "#### Download some addition Corpora from NLTK####\n",
    "These are for use later on in this set of Python Notebooks."
   ]
  },
  {
   "cell_type": "code",
   "execution_count": null,
   "metadata": {
    "collapsed": true
   },
   "outputs": [],
   "source": [
    "nltk.download('punkt')   # Punkt Tokenizer Model\n",
    "nltk.download('averaged_perceptron_tagger')  # Part-of-Speech Tokeniser\n",
    "nltk.download(\"stopwords\") # Stopwords"
   ]
  },
  {
   "cell_type": "markdown",
   "metadata": {},
   "source": [
    "#### Examples with the Reuters Corpus ####\n",
    "\n",
    "The original Reuters Corpus was compiled from newswire articles from 1987.  In 1990 the documents were made available by Reuters and CGI *for research purposes only*.  One of the central people involved in developing this corpus was David Lewis, and he has published more information and background here: http://www.daviddlewis.com/resources/testcollections/reuters21578/readme.txt\n",
    "\n",
    "The original corpus contained 22,173 documents and was known as the \"Reuters-22173\" corpus.  This was then pared down by removing duplicated and became known as the Reuters-21578 collection.  \n",
    "\n",
    "The Reuters Corpus is released with the following requirement: *\"If you publish results based on this data set, please acknowledge its use, refer to the data set by the name 'Reuters-21578, Distribution 1.0', and inform your readers of the current location of the data set.\"*"
   ]
  },
  {
   "cell_type": "markdown",
   "metadata": {},
   "source": [
    "### Categories, Files and Words ###\n",
    "\n",
    "Load the corpus and list any categories defined in it:"
   ]
  },
  {
   "cell_type": "code",
   "execution_count": 1,
   "metadata": {},
   "outputs": [
    {
     "name": "stdout",
     "output_type": "stream",
     "text": [
      "Number of Categories: 90\n",
      "['acq', 'alum', 'barley', 'bop', 'carcass', 'castor-oil', 'cocoa', 'coconut', 'coconut-oil'] ['sun-oil', 'sunseed', 'tea', 'tin', 'trade', 'veg-oil', 'wheat', 'wpi', 'yen', 'zinc']\n"
     ]
    }
   ],
   "source": [
    "from nltk.corpus import reuters\n",
    "categories = reuters.categories()\n",
    "print(\"Number of Categories:\",len(categories))\n",
    "print(categories[0:9],categories[-10:])"
   ]
  },
  {
   "cell_type": "markdown",
   "metadata": {},
   "source": [
    "Individual words can be extracted with the `words()` method:"
   ]
  },
  {
   "cell_type": "code",
   "execution_count": 2,
   "metadata": {},
   "outputs": [
    {
     "name": "stdout",
     "output_type": "stream",
     "text": [
      "number of words 1720901\n",
      "first 10 words: ['ASIAN', 'EXPORTERS', 'FEAR', 'DAMAGE', 'FROM', 'U', '.', 'S', '.-']\n"
     ]
    }
   ],
   "source": [
    "words = reuters.words()\n",
    "print(\"number of words\", len(words) )\n",
    "print(\"first 10 words:\", words[0:9])"
   ]
  },
  {
   "cell_type": "markdown",
   "metadata": {},
   "source": [
    "## Filter Text by Category ##\n",
    "\n",
    "Get all news article words classified under \"trade\":"
   ]
  },
  {
   "cell_type": "code",
   "execution_count": 3,
   "metadata": {},
   "outputs": [
    {
     "data": {
      "text/plain": [
       "142723"
      ]
     },
     "execution_count": 3,
     "metadata": {},
     "output_type": "execute_result"
    }
   ],
   "source": [
    "#Extract at a sepecific category\n",
    "tradeWords = reuters.words(categories = 'trade')\n",
    "len(tradeWords)"
   ]
  },
  {
   "cell_type": "markdown",
   "metadata": {},
   "source": [
    "### Remove Stopwords and Punctuation ###\n",
    "\n"
   ]
  },
  {
   "cell_type": "code",
   "execution_count": 5,
   "metadata": {},
   "outputs": [
    {
     "name": "stdout",
     "output_type": "stream",
     "text": [
      "['i', 'me', 'my', 'myself', 'we', 'our', 'ours', 'ourselves', 'you', 'your', 'yours', 'yourself', 'yourselves', 'he', 'him', 'his', 'himself', 'she', 'her', 'hers', 'herself', 'it', 'its', 'itself', 'they', 'them', 'their', 'theirs', 'themselves', 'what', 'which', 'who', 'whom', 'this', 'that', 'these', 'those', 'am', 'is', 'are', 'was', 'were', 'be', 'been', 'being', 'have', 'has', 'had', 'having', 'do', 'does', 'did', 'doing', 'a', 'an', 'the', 'and', 'but', 'if', 'or', 'because', 'as', 'until', 'while', 'of', 'at', 'by', 'for', 'with', 'about', 'against', 'between', 'into', 'through', 'during', 'before', 'after', 'above', 'below', 'to', 'from', 'up', 'down', 'in', 'out', 'on', 'off', 'over', 'under', 'again', 'further', 'then', 'once', 'here', 'there', 'when', 'where', 'why', 'how', 'all', 'any', 'both', 'each', 'few', 'more', 'most', 'other', 'some', 'such', 'no', 'nor', 'not', 'only', 'own', 'same', 'so', 'than', 'too', 'very', 's', 't', 'can', 'will', 'just', 'don', 'should', 'now', 'd', 'll', 'm', 'o', 're', 've', 'y', 'ain', 'aren', 'couldn', 'didn', 'doesn', 'hadn', 'hasn', 'haven', 'isn', 'ma', 'mightn', 'mustn', 'needn', 'shan', 'shouldn', 'wasn', 'weren', 'won', 'wouldn']\n"
     ]
    }
   ],
   "source": [
    "from nltk.corpus import stopwords\n",
    "import string\n",
    "print(stopwords.words('english'))"
   ]
  },
  {
   "cell_type": "code",
   "execution_count": 7,
   "metadata": {
    "collapsed": true
   },
   "outputs": [],
   "source": [
    "# This takes a couple of minutes to run\n",
    "tradeWords = [w for w in tradeWords if w.lower() not in stopwords.words('english') ]"
   ]
  },
  {
   "cell_type": "code",
   "execution_count": 32,
   "metadata": {},
   "outputs": [
    {
     "name": "stdout",
     "output_type": "stream",
     "text": [
      "78019\n",
      "!\"#$%&'()*+,-./:;<=>?@[\\]^_`{|}~\n",
      "['!\"', '\"\"', '#\"', '$\"', '%\"', '&\"', '\\'\"', '(\"', ')\"', '*\"', '+\"', ',\"', '-\"', '.\"', '/\"', ':\"', ';\"', '<\"', '=\"', '>\"', '?\"', '@\"', '[\"', '\\\\\"', ']\"', '^\"', '_\"', '`\"', '{\"', '|\"', '}\"', '~\"', '\"!', '\"\"', '\"#', '\"$', '\"%', '\"&', '\"\\'', '\"(', '\")', '\"*', '\"+', '\",', '\"-', '\".', '\"/', '\":', '\";', '\"<', '\"=', '\">', '\"?', '\"@', '\"[', '\"\\\\', '\"]', '\"^', '\"_', '\"`', '\"{', '\"|', '\"}', '\"~']\n"
     ]
    }
   ],
   "source": [
    "tradeWords = [w for w in tradeWords if w not in string.punctuation]\n",
    "punctCombo = [c+\"\\\"\" for c in string.punctuation ]+ [\"\\\"\"+c for c in string.punctuation ]\n",
    "tradeWords = [w for w in tradeWords if w not in punctCombo]\n",
    "print(len(tradeWords))\n",
    "print(string.punctuation)\n",
    "print(punctCombo)"
   ]
  },
  {
   "cell_type": "markdown",
   "metadata": {},
   "source": [
    "### Word Frequency Distribution ###"
   ]
  },
  {
   "cell_type": "code",
   "execution_count": 11,
   "metadata": {},
   "outputs": [
    {
     "data": {
      "image/png": "[encoded data removed]",
      "text/plain": [
       "<matplotlib.figure.Figure at 0x11a6044a8>"
      ]
     },
     "metadata": {},
     "output_type": "display_data"
    }
   ],
   "source": [
    "fdist = nltk.FreqDist(tradeWords)\n",
    "fdist.plot(20, cumulative=False)\n",
    "# (installed Ghostscript on my PC to get this working in Jupyter"
   ]
  },
  {
   "cell_type": "code",
   "execution_count": 12,
   "metadata": {},
   "outputs": [
    {
     "name": "stdout",
     "output_type": "stream",
     "text": [
      "said 2177\n",
      "trade 1518\n",
      "U 1452\n",
      "billion 1063\n",
      "Japan 720\n",
      "dlrs 628\n",
      "year 610\n",
      "would 592\n",
      "pct 520\n",
      "mln 475\n"
     ]
    }
   ],
   "source": [
    "for word, frequency in fdist.most_common(10):\n",
    "    print(word, frequency)"
   ]
  },
  {
   "cell_type": "markdown",
   "metadata": {},
   "source": [
    "### Bi-Grams###\n"
   ]
  },
  {
   "cell_type": "code",
   "execution_count": 13,
   "metadata": {},
   "outputs": [
    {
     "data": {
      "image/png": "[encoded data removed]",
      "text/plain": [
       "<matplotlib.figure.Figure at 0x11e948860>"
      ]
     },
     "metadata": {},
     "output_type": "display_data"
    }
   ],
   "source": [
    "biTradeWords = nltk.bigrams(tradeWords)\n",
    "biFdist = nltk.FreqDist(biTradeWords)\n",
    "biFdist.plot(20, cumulative=False)"
   ]
  },
  {
   "cell_type": "markdown",
   "metadata": {},
   "source": [
    "## Exploring the Penn Treebank ##\n",
    "The NLTK data package includes a 10% sample of the Penn Treebank.  This can be used for exploring the concepts of Part-of-Speech tagging and the concept of sentence word classifications with grouping and heirarchies."
   ]
  },
  {
   "cell_type": "code",
   "execution_count": null,
   "metadata": {
    "collapsed": true
   },
   "outputs": [],
   "source": [
    "nltk.download('treebank')"
   ]
  },
  {
   "cell_type": "code",
   "execution_count": 14,
   "metadata": {
    "collapsed": true
   },
   "outputs": [],
   "source": [
    "from nltk.corpus import treebank"
   ]
  },
  {
   "cell_type": "code",
   "execution_count": 15,
   "metadata": {},
   "outputs": [
    {
     "name": "stdout",
     "output_type": "stream",
     "text": [
      "<class 'nltk.corpus.reader.util.ConcatenatedCorpusView'>\n",
      "Word Count 100676\n",
      "Tagged words sample:  [('Pierre', 'NNP'), ('Vinken', 'NNP'), (',', ','), ('61', 'CD'), ('years', 'NNS'), ('old', 'JJ'), (',', ','), ('will', 'MD'), ('join', 'VB')]\n"
     ]
    }
   ],
   "source": [
    "words = treebank.words()\n",
    "tagged = treebank.tagged_words()\n",
    "print(type(tagged))\n",
    "print(\"Word Count\", len(words))\n",
    "print(\"Tagged words sample: \",tagged[0:9])"
   ]
  },
  {
   "cell_type": "markdown",
   "metadata": {
    "collapsed": true
   },
   "source": [
    "This treebank allows us to extract specific parsed sentences:"
   ]
  },
  {
   "cell_type": "code",
   "execution_count": 16,
   "metadata": {
    "collapsed": true
   },
   "outputs": [],
   "source": [
    "parsed = treebank.parsed_sents()[0]"
   ]
  },
  {
   "cell_type": "code",
   "execution_count": 17,
   "metadata": {},
   "outputs": [
    {
     "name": "stdout",
     "output_type": "stream",
     "text": [
      "(S\n",
      "  (NP-SBJ\n",
      "    (NP (NNP Pierre) (NNP Vinken))\n",
      "    (, ,)\n",
      "    (ADJP (NP (CD 61) (NNS years)) (JJ old))\n",
      "    (, ,))\n",
      "  (VP\n",
      "    (MD will)\n",
      "    (VP\n",
      "      (VB join)\n",
      "      (NP (DT the) (NN board))\n",
      "      (PP-CLR (IN as) (NP (DT a) (JJ nonexecutive) (NN director)))\n",
      "      (NP-TMP (NNP Nov.) (CD 29))))\n",
      "  (. .))\n"
     ]
    }
   ],
   "source": [
    "print(parsed)"
   ]
  },
  {
   "cell_type": "code",
   "execution_count": 18,
   "metadata": {},
   "outputs": [
    {
     "data": {
      "text/plain": [
       "nltk.tree.Tree"
      ]
     },
     "execution_count": 18,
     "metadata": {},
     "output_type": "execute_result"
    }
   ],
   "source": [
    "type(parsed)"
   ]
  },
  {
   "cell_type": "code",
   "execution_count": 19,
   "metadata": {},
   "outputs": [
    {
     "data": {
      "image/png": "[encoded data removed]",
      "text/plain": [
       "Tree('S', [Tree('NP-SBJ', [Tree('NP', [Tree('NNP', ['Pierre']), Tree('NNP', ['Vinken'])]), Tree(',', [',']), Tree('ADJP', [Tree('NP', [Tree('CD', ['61']), Tree('NNS', ['years'])]), Tree('JJ', ['old'])]), Tree(',', [','])]), Tree('VP', [Tree('MD', ['will']), Tree('VP', [Tree('VB', ['join']), Tree('NP', [Tree('DT', ['the']), Tree('NN', ['board'])]), Tree('PP-CLR', [Tree('IN', ['as']), Tree('NP', [Tree('DT', ['a']), Tree('JJ', ['nonexecutive']), Tree('NN', ['director'])])]), Tree('NP-TMP', [Tree('NNP', ['Nov.']), Tree('CD', ['29'])])])]), Tree('.', ['.'])])"
      ]
     },
     "metadata": {},
     "output_type": "display_data"
    }
   ],
   "source": [
    "import IPython\n",
    "IPython.core.display.display(parsed)"
   ]
  },
  {
   "cell_type": "markdown",
   "metadata": {},
   "source": [
    "## Further Investigation ##\n",
    "\n",
    "+ Import the Brown Corpus  \n",
    "+ List the categories  and count the number of words by category\n",
    "+ Extract the first sentence from the corpus\n",
    "+ Compare the average sentence length between Religion, News and Humor categories\n",
    "+ Identify the top-20 words and bigrams in sentences categoried as \"religion\" and \"news\""
   ]
  },
  {
   "cell_type": "code",
   "execution_count": 23,
   "metadata": {},
   "outputs": [
    {
     "name": "stdout",
     "output_type": "stream",
     "text": [
      "15\n",
      "['adventure', 'belles_lettres', 'editorial', 'fiction', 'government', 'hobbies', 'humor', 'learned', 'lore', 'mystery', 'news', 'religion', 'reviews', 'romance', 'science_fiction']\n"
     ]
    }
   ],
   "source": [
    "from nltk.corpus import brown\n",
    "categories = brown.categories()\n",
    "print (len(categories))\n",
    "print (categories)"
   ]
  },
  {
   "cell_type": "code",
   "execution_count": 24,
   "metadata": {},
   "outputs": [
    {
     "name": "stdout",
     "output_type": "stream",
     "text": [
      "adventure 69342\n",
      "belles_lettres 173096\n",
      "editorial 61604\n",
      "fiction 68488\n",
      "government 70117\n",
      "hobbies 82345\n",
      "humor 21695\n",
      "learned 181888\n",
      "lore 110299\n",
      "mystery 57169\n",
      "news 100554\n",
      "religion 39399\n",
      "reviews 40704\n",
      "romance 70022\n",
      "science_fiction 14470\n"
     ]
    }
   ],
   "source": [
    "#List the categories and count the number of words by category\n",
    "for cate in categories:\n",
    "    print(cate, len(brown.words(categories = cate)))"
   ]
  },
  {
   "cell_type": "code",
   "execution_count": 26,
   "metadata": {},
   "outputs": [
    {
     "name": "stdout",
     "output_type": "stream",
     "text": [
      "['The', 'Fulton', 'County', 'Grand', 'Jury', 'said', 'Friday', 'an', 'investigation', 'of', \"Atlanta's\", 'recent', 'primary', 'election', 'produced', '``', 'no', 'evidence', \"''\", 'that', 'any', 'irregularities', 'took', 'place', '.']\n"
     ]
    }
   ],
   "source": [
    "#Extract the first sentence from the corpus\n",
    "print(brown.sents()[0])"
   ]
  },
  {
   "cell_type": "code",
   "execution_count": 28,
   "metadata": {},
   "outputs": [
    {
     "name": "stdout",
     "output_type": "stream",
     "text": [
      "religion 22.9597902098\n",
      "news 21.7508111616\n",
      "humor 20.6030389364\n"
     ]
    }
   ],
   "source": [
    "#Compare the average sentence length between Religion, News and Humor categories\n",
    "import numpy as np\n",
    "categories = ['religion', 'news', 'humor']\n",
    "for cate in categories:\n",
    "    print(cate, np.mean([len(sent) for sent in brown.sents(categories = cate)]))"
   ]
  },
  {
   "cell_type": "code",
   "execution_count": 50,
   "metadata": {
    "collapsed": true
   },
   "outputs": [],
   "source": [
    "# function to return a word frequency distribution for certain corpus and certain category\n",
    "def cleanWords(corpus,cates):\n",
    "    Words = corpus.words(categories = cates)\n",
    "    #get rid of stopwords\n",
    "    Words = [w for w in Words if w.lower() not in stopwords.words('english') ]\n",
    "    #get rid of punctuation\n",
    "    punctuation = string.punctuation + \"``\" + \"''\"+\"--\"\n",
    "    Words = [w for w in Words if w not in punctuation]\n",
    "    #git rid of punctuation combo\n",
    "    punctCombo = [c+\"\\\"\" for c in punctuation ]+ [\"\\\"\"+c for c in punctuation ]\n",
    "    Words = [w for w in Words if w not in punctCombo]\n",
    "    return Words"
   ]
  },
  {
   "cell_type": "code",
   "execution_count": 52,
   "metadata": {},
   "outputs": [
    {
     "name": "stdout",
     "output_type": "stream",
     "text": [
      "said 429\n",
      "would 312\n",
      "one 271\n",
      "Mrs. 253\n",
      "new 225\n",
      "two 184\n",
      "also 176\n",
      "Mr. 176\n",
      "last 175\n",
      "first 168\n",
      "year 146\n",
      "could 145\n",
      "may 144\n",
      "years 139\n",
      "God 139\n",
      "man 136\n",
      "made 135\n",
      "home 133\n",
      "time 131\n",
      "world 127\n",
      "Bigrams top 20:\n",
      "('per', 'cent') 56\n",
      "('New', 'York') 56\n",
      "('United', 'States') 45\n",
      "('Mr.', 'Mrs.') 42\n",
      "('last', 'year') 31\n",
      "('White', 'House') 29\n",
      "('years', 'ago') 29\n",
      "('last', 'week') 29\n",
      "('new', 'members') 24\n",
      "('Jesus', 'Christ') 23\n",
      "('home', 'runs') 23\n",
      "('Lo', 'Shu') 21\n",
      "('U.', 'S.') 20\n",
      "('St.', 'John') 20\n",
      "('President', 'Kennedy') 19\n",
      "('last', 'night') 17\n",
      "('new', 'birth') 16\n",
      "('said', 'would') 15\n",
      "('New', 'England') 15\n",
      "('San', 'Francisco') 15\n"
     ]
    }
   ],
   "source": [
    "#Identify the top-20 words and bigrams in sentences categoried as \"religion\" and \"news\"\n",
    "Words = cleanWords(brown, [\"religion\", \"news\"])\n",
    "fdist = nltk.FreqDist(Words)\n",
    "for word, frequency in fdist.most_common(20):\n",
    "    print(word, frequency)\n",
    "print(\"Bigrams top 20:\")\n",
    "biWords = nltk.bigrams(Words)\n",
    "biFdist = nltk.FreqDist(biWords)\n",
    "for word, frequency in biFdist.most_common(20):\n",
    "    print(word, frequency)"
   ]
  }
 ],
 "metadata": {
  "kernelspec": {
   "display_name": "Python 3",
   "language": "python",
   "name": "python3"
  },
  "language_info": {
   "codemirror_mode": {
    "name": "ipython",
    "version": 3
   },
   "file_extension": ".py",
   "mimetype": "text/x-python",
   "name": "python",
   "nbconvert_exporter": "python",
   "pygments_lexer": "ipython3",
   "version": "3.6.0"
  }
 },
 "nbformat": 4,
 "nbformat_minor": 2
}
